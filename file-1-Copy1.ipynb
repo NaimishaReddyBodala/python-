{
 "cells": [
  {
   "cell_type": "code",
   "execution_count": 1,
   "metadata": {},
   "outputs": [
    {
     "name": "stdout",
     "output_type": "stream",
     "text": [
      "enter a number4\n",
      "x is a positive number\n"
     ]
    }
   ],
   "source": [
    "x=int(input(\"enter a number\"))\n",
    "if(x==0):\n",
    "    print(\"x is neutral\")\n",
    "elif(x>0):\n",
    "    print(\"x is a positive number\")\n",
    "else:\n",
    "    print(\"x is a negative number\")"
   ]
  },
  {
   "cell_type": "code",
   "execution_count": null,
   "metadata": {},
   "outputs": [],
   "source": [
    "count=0\n",
    "x=int(input(\"enter a number\"))\n",
    "while(count<=x):\n",
    "if(x<10):\n",
    "    print(\"x is less than 10\")\n",
    "elif(x>10):\n",
    "    print(\"x is greater than 10\")\n",
    "else:\n",
    "    print(\"x is equal to 10\")"
   ]
  },
  {
   "cell_type": "code",
   "execution_count": 9,
   "metadata": {},
   "outputs": [
    {
     "name": "stdout",
     "output_type": "stream",
     "text": [
      "10\n",
      "9\n",
      "8\n",
      "7\n",
      "6\n",
      "5\n",
      "4\n",
      "3\n",
      "2\n",
      "1\n"
     ]
    }
   ],
   "source": [
    "x=10\n",
    "while(x>0):\n",
    "    print(x)\n",
    "    x=x-1"
   ]
  },
  {
   "cell_type": "code",
   "execution_count": 8,
   "metadata": {},
   "outputs": [
    {
     "name": "stdout",
     "output_type": "stream",
     "text": [
      "-22\n",
      "-23\n",
      "-24\n",
      "-25\n",
      "-26\n",
      "-27\n",
      "-28\n",
      "-29\n",
      "-30\n",
      "-31\n",
      "-32\n",
      "-33\n",
      "-34\n",
      "-35\n",
      "-36\n",
      "-37\n",
      "-38\n",
      "-39\n",
      "-40\n",
      "-41\n",
      "-42\n",
      "-43\n",
      "-44\n",
      "-45\n"
     ]
    }
   ],
   "source": [
    "x=-22\n",
    "while(x>=-45):\n",
    "    print(x)\n",
    "    x=x-1"
   ]
  },
  {
   "cell_type": "code",
   "execution_count": null,
   "metadata": {},
   "outputs": [],
   "source": [
    "def countofpalindromes(x,y):\n",
    "    count=0 \n",
    "    while(x!=y):\n",
    "        sum=0\n",
    "        buffer=x\n",
    "        while(x!=0):\n",
    "            r=x%10\n",
    "            sum=(sum*10)+r\n",
    "            x=x//10\n",
    "        if(buffer==sum):\n",
    "            count=count+1\n",
    "            x=buffer\n",
    "            x=x+1\n",
    "    return count\n",
    "\n",
    "\n",
    "print(countofpalindromes(10,30))\n",
    "            \n"
   ]
  },
  {
   "cell_type": "code",
   "execution_count": null,
   "metadata": {},
   "outputs": [],
   "source": []
  },
  {
   "cell_type": "code",
   "execution_count": null,
   "metadata": {},
   "outputs": [],
   "source": []
  }
 ],
 "metadata": {
  "kernelspec": {
   "display_name": "Python 3",
   "language": "python",
   "name": "python3"
  },
  "language_info": {
   "codemirror_mode": {
    "name": "ipython",
    "version": 3
   },
   "file_extension": ".py",
   "mimetype": "text/x-python",
   "name": "python",
   "nbconvert_exporter": "python",
   "pygments_lexer": "ipython3",
   "version": "3.7.3"
  }
 },
 "nbformat": 4,
 "nbformat_minor": 2
}
