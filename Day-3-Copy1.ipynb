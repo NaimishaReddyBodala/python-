{
 "cells": [
  {
   "cell_type": "code",
   "execution_count": 5,
   "metadata": {},
   "outputs": [
    {
     "name": "stdout",
     "output_type": "stream",
     "text": [
      "90\n"
     ]
    }
   ],
   "source": [
    "def printeven(n):\n",
    "    count=0\n",
    "    sum=0\n",
    "    while(count!=n):\n",
    "        if(count%2==0):\n",
    "            sum=sum+count\n",
    "        count=count+1\n",
    "    return sum\n",
    "print(printeven(20))"
   ]
  },
  {
   "cell_type": "code",
   "execution_count": 8,
   "metadata": {},
   "outputs": [
    {
     "name": "stdout",
     "output_type": "stream",
     "text": [
      "1 2 3 4 6 12 "
     ]
    }
   ],
   "source": [
    "def factorsList(n):\n",
    "    i=1\n",
    "    while(i!=n+1):\n",
    "        if(n%i==0):\n",
    "            print(i,end= \" \")\n",
    "        i=i+1\n",
    "    return\n",
    "factorsList(12)"
   ]
  },
  {
   "cell_type": "code",
   "execution_count": 9,
   "metadata": {},
   "outputs": [
    {
     "name": "stdout",
     "output_type": "stream",
     "text": [
      "[1, 2, 3, 4, 5]\n",
      "1\n"
     ]
    }
   ],
   "source": [
    "list1=[1,2,3,4,5]\n",
    "#entire List\n",
    "print(list1)\n",
    "#list[0]\n",
    "print(list1[0])"
   ]
  },
  {
   "cell_type": "code",
   "execution_count": null,
   "metadata": {},
   "outputs": [],
   "source": []
  },
  {
   "cell_type": "code",
   "execution_count": 27,
   "metadata": {},
   "outputs": [
    {
     "name": "stdout",
     "output_type": "stream",
     "text": [
      "[]\n"
     ]
    }
   ],
   "source": [
    "list1=[1,2,3]\n",
    "list2=[2,3,4]\n",
    "list3=[]\n",
    "i=0\n",
    "j=0\n",
    "k=0\n",
    "for i in list1:\n",
    "    for j in list2:\n",
    "        for k in list3:\n",
    "            if(list1[i]!=list2[j]):\n",
    "                list3.append(list1[i])\n",
    "            \n",
    "print(list3)\n"
   ]
  },
  {
   "cell_type": "code",
   "execution_count": 28,
   "metadata": {},
   "outputs": [
    {
     "name": "stdout",
     "output_type": "stream",
     "text": [
      "False\n"
     ]
    }
   ],
   "source": [
    "list1=[1,2,3]\n",
    "list2=[2,3,4]\n",
    "print(list1==list2)"
   ]
  },
  {
   "cell_type": "code",
   "execution_count": 7,
   "metadata": {},
   "outputs": [
    {
     "name": "stdout",
     "output_type": "stream",
     "text": [
      "1 2 3 4 5 6 7 \n",
      "5\n",
      "[4, 5, 6, 7]\n",
      "[1, 2, 3]\n",
      "[1, 2, 3]\n",
      "[1, 2, 3, 4, 5, 6, 7]\n",
      "[1, 2, 3, 4, 5]\n",
      "[3, 4, 5]\n",
      "[7, 4, 1]\n",
      "[]\n",
      "[3, 4, 5, 6, 7]\n",
      "[]\n",
      "[6, 7]\n"
     ]
    }
   ],
   "source": [
    "list1=[1,2,3,4,5,6,7]\n",
    "for x in list1:\n",
    "    print(x,end= \" \")\n",
    "print()\n",
    "print(list1[4])\n",
    "print(list1[3:7])\n",
    "print(list1[0:3])\n",
    "print(list1[:3])\n",
    "print(list1[:7])\n",
    "print(list1[:-2])\n",
    "print(list1[2:-2])\n",
    "print(list1[::-3])\n",
    "print(list1[-1:-1])\n",
    "print(list1[2:])\n",
    "print(list1[1:1])\n",
    "print(list1[-2:])\n",
    "    \n",
    "    "
   ]
  },
  {
   "cell_type": "code",
   "execution_count": 43,
   "metadata": {},
   "outputs": [
    {
     "ename": "IndexError",
     "evalue": "list index out of range",
     "output_type": "error",
     "traceback": [
      "\u001b[1;31m---------------------------------------------------------------------------\u001b[0m",
      "\u001b[1;31mIndexError\u001b[0m                                Traceback (most recent call last)",
      "\u001b[1;32m<ipython-input-43-f4cc9ab00e89>\u001b[0m in \u001b[0;36m<module>\u001b[1;34m\u001b[0m\n\u001b[0;32m      4\u001b[0m \u001b[1;32mfor\u001b[0m \u001b[0mi\u001b[0m \u001b[1;32min\u001b[0m \u001b[0mlist1\u001b[0m\u001b[1;33m:\u001b[0m\u001b[1;33m\u001b[0m\u001b[1;33m\u001b[0m\u001b[0m\n\u001b[0;32m      5\u001b[0m     \u001b[1;32mfor\u001b[0m \u001b[0mj\u001b[0m \u001b[1;32min\u001b[0m \u001b[0mlist2\u001b[0m\u001b[1;33m:\u001b[0m\u001b[1;33m\u001b[0m\u001b[1;33m\u001b[0m\u001b[0m\n\u001b[1;32m----> 6\u001b[1;33m         \u001b[1;32mif\u001b[0m\u001b[1;33m(\u001b[0m\u001b[0mlist1\u001b[0m\u001b[1;33m[\u001b[0m\u001b[0mi\u001b[0m\u001b[1;33m]\u001b[0m\u001b[1;33m!=\u001b[0m\u001b[0mlist2\u001b[0m\u001b[1;33m[\u001b[0m\u001b[0mj\u001b[0m\u001b[1;33m]\u001b[0m\u001b[1;33m)\u001b[0m\u001b[1;33m:\u001b[0m\u001b[1;33m\u001b[0m\u001b[1;33m\u001b[0m\u001b[0m\n\u001b[0m\u001b[0;32m      7\u001b[0m             \u001b[0mlist3\u001b[0m\u001b[1;33m.\u001b[0m\u001b[0mappend\u001b[0m\u001b[1;33m(\u001b[0m\u001b[0mlist1\u001b[0m\u001b[1;33m[\u001b[0m\u001b[0mi\u001b[0m\u001b[1;33m]\u001b[0m\u001b[1;33m)\u001b[0m\u001b[1;33m\u001b[0m\u001b[1;33m\u001b[0m\u001b[0m\n\u001b[0;32m      8\u001b[0m \u001b[1;33m\u001b[0m\u001b[0m\n",
      "\u001b[1;31mIndexError\u001b[0m: list index out of range"
     ]
    }
   ],
   "source": [
    "list1=[1,2,3]\n",
    "list2=[2,3,4]\n",
    "list3=[]\n",
    "for i in list1:\n",
    "    for j in list2:        \n",
    "        if(list1[i]!=list2[j]):\n",
    "            list3.append(list1[i])\n",
    "            \n",
    "print(list3)\n"
   ]
  },
  {
   "cell_type": "code",
   "execution_count": 59,
   "metadata": {},
   "outputs": [
    {
     "name": "stdout",
     "output_type": "stream",
     "text": [
      "['Gitam', 'Python', 'Raptor', 1, 5, 'Python', 'Python']\n",
      "7\n",
      "['Gitam', 'Python', 2019, 'Raptor', 1, 5, 'Python', 'Python']\n",
      "8\n",
      "['Gitam', 'Python', 2019, 'Raptor', 2020, 1, 5, 'Python', 'Python']\n",
      "9\n",
      "['Gitam', 'Python', 2019, 'Raptor', 2020, 5, 'Python', 'Python']\n",
      "['Gitam', 2019, 'Raptor', 2020, 5, 'Python', 'Python']\n",
      "['Python', 'Python', 5, 2020, 'Raptor', 2019, 'Gitam']\n"
     ]
    }
   ],
   "source": [
    "list1=[\"Gitam\",\"Python\",\"Raptor\",1,5,\"Python\",\"Python\"]\n",
    "print(list1)\n",
    "\n",
    "##INDEX##\n",
    "list1.index(\"Python\")\n",
    "list1.index(1)\n",
    "print(len(list1))\n",
    "\n",
    "##INSERT##\n",
    "list1.insert(2,2019)\n",
    "print(list1)\n",
    "print(len(list1))\n",
    "list1.insert(4,2020)\n",
    "print(list1)\n",
    "print(len(list1))\n",
    "\n",
    "##POP##\n",
    "list1.pop(5)\n",
    "print(list1)\n",
    "\n",
    "##REMOVE##\n",
    "list1.remove(\"Python\")\n",
    "print(list1)\n",
    "list1.reverse()\n",
    "print(list1)"
   ]
  },
  {
   "cell_type": "code",
   "execution_count": 62,
   "metadata": {},
   "outputs": [
    {
     "name": "stdout",
     "output_type": "stream",
     "text": [
      "Target item is found\n",
      "Target item is not found\n"
     ]
    }
   ],
   "source": [
    "def linearSearch(a,tarItem):\n",
    "    flag=0\n",
    "    for i in range(len(a)):\n",
    "        if a[i]==tarItem:\n",
    "            flag=1\n",
    "            break\n",
    "    if(flag!=0):\n",
    "        print(\"Target item is found\")\n",
    "    else:\n",
    "        print(\"Target item is not found\")\n",
    "a=[16,2,12,6,9,7,1]\n",
    "linearSearch(a,12)\n",
    "linearSearch(a,61)"
   ]
  },
  {
   "cell_type": "code",
   "execution_count": null,
   "metadata": {},
   "outputs": [],
   "source": [
    "def linearExample1(a,tarItem):\n",
    "    for i in range"
   ]
  },
  {
   "cell_type": "code",
   "execution_count": null,
   "metadata": {},
   "outputs": [],
   "source": []
  }
 ],
 "metadata": {
  "kernelspec": {
   "display_name": "Python 3",
   "language": "python",
   "name": "python3"
  },
  "language_info": {
   "codemirror_mode": {
    "name": "ipython",
    "version": 3
   },
   "file_extension": ".py",
   "mimetype": "text/x-python",
   "name": "python",
   "nbconvert_exporter": "python",
   "pygments_lexer": "ipython3",
   "version": "3.7.3"
  }
 },
 "nbformat": 4,
 "nbformat_minor": 2
}
