{
 "cells": [
  {
   "cell_type": "markdown",
   "metadata": {},
   "source": []
  },
  {
   "cell_type": "code",
   "execution_count": null,
   "metadata": {},
   "outputs": [],
   "source": [
    "num=int(input(\"enter a num\"))\n",
    "if(num<6):\n",
    "    print(\"num is less than 6\")\n",
    "elif(num>6):\n",
    "    print(\"num is greater than 6\")\n",
    "else:\n",
    "    print(\"num is equal to 6\")\n",
    "    "
   ]
  },
  {
   "cell_type": "code",
   "execution_count": null,
   "metadata": {},
   "outputs": [],
   "source": [
    "X=input(\"enter a num\")\n",
    "Y=input(\"enter a num\")\n",
    "if(X>Y):\n",
    "    print(\"X is greater than Y\")\n",
    "elif(X<Y):\n",
    "    print(\"X is less than Y\")\n",
    "else:\n",
    "    printf(\"X is equal to Y\")"
   ]
  },
  {
   "cell_type": "code",
   "execution_count": null,
   "metadata": {},
   "outputs": [],
   "source": [
    "x=int(input(\"enter a num\"))\n",
    "y=int(input(\"enter a num\"))\n",
    "if(x==y):\n",
    "    print(x*x)\n",
    "else:\n",
    "    print(x*y)"
   ]
  },
  {
   "cell_type": "code",
   "execution_count": null,
   "metadata": {},
   "outputs": [],
   "source": [
    "x=int(input(\"enter a number\"))\n",
    "if(x==0):\n",
    "    print(\"x is neutral\")\n",
    "elif(x>0):\n",
    "    print(\"x is a positive number\")\n",
    "else:\n",
    "    print(\"x is a negative number\")"
   ]
  },
  {
   "cell_type": "code",
   "execution_count": null,
   "metadata": {},
   "outputs": [],
   "source": [
    "count=0\n",
    "x=int(input(\"enter a number\"))\n",
    "while(coun\n",
    "    print(\"x is equal to 10\")t<=x)\n",
    "if(x<10):\n",
    "    print(\"x is less than 10\")\n",
    "elif(x>10):\n",
    "    print(\"x is greater than 10\")\n",
    "else:"
   ]
  },
  {
   "cell_type": "code",
   "execution_count": 7,
   "metadata": {},
   "outputs": [
    {
     "name": "stdout",
     "output_type": "stream",
     "text": [
      "enter a number262\n",
      "2\n",
      "6\n",
      "2\n"
     ]
    }
   ],
   "source": [
    "x=int(input(\"enter a number\"))\n",
    "while(x!=0):\n",
    "    c=x%10\n",
    "    x=x//10\n",
    "    if(c%2==0):\n",
    "        print(c)\n",
    "    \n",
    "        \n",
    "    "
   ]
  },
  {
   "cell_type": "code",
   "execution_count": 25,
   "metadata": {},
   "outputs": [
    {
     "name": "stdout",
     "output_type": "stream",
     "text": [
      "ENTER A NUM345\n",
      "five\n",
      "four\n",
      "three\n"
     ]
    }
   ],
   "source": [
    "X=int(input(\"ENTER A NUM\"))\n",
    "while(X!=0):\n",
    "    c=X%10\n",
    "    X=X//10\n",
    "    if(c==0):\n",
    "        print(\"zero\")\n",
    "    elif(c==1):\n",
    "        print(\"one\")\n",
    "    elif(c==2):\n",
    "        print(\"two\")\n",
    "    elif(c==3):\n",
    "        print(\"three\")\n",
    "    elif(c==4):\n",
    "        print(\"four\")\n",
    "    elif(c==5):\n",
    "        print(\"five\")\n",
    "    elif(c==6):\n",
    "        print(\"six\")\n",
    "    elif(c==7):\n",
    "        print(\"seven\")\n",
    "    elif(c==8):\n",
    "        print(\"eight\")\n",
    "    else:\n",
    "        print(\"nine\")\n",
    "    "
   ]
  },
  {
   "cell_type": "code",
   "execution_count": 30,
   "metadata": {},
   "outputs": [
    {
     "name": "stdout",
     "output_type": "stream",
     "text": [
      "enter num of elements5\n",
      "enter a num u want to find3\n",
      "enter a num123\n",
      "enter a num345\n",
      "enter a num678\n",
      "enter a num435\n",
      "enter a num653\n",
      "2\n"
     ]
    }
   ],
   "source": [
    "x=int(input('enter num of elements'))\n",
    "i=0\n",
    "count=0\n",
    "l=0\n",
    "m=int(input(\"enter a num u want to find\"))\n",
    "while(l!=x):\n",
    "    n=int(input(\"enter a num\"))\n",
    "    c=n%10\n",
    "    n=n//10\n",
    "    if(c==m):\n",
    "        count=count+1\n",
    "    l=l+1\n",
    "print(count)"
   ]
  },
  {
   "cell_type": "code",
   "execution_count": null,
   "metadata": {},
   "outputs": [],
   "source": []
  }
 ],
 "metadata": {
  "kernelspec": {
   "display_name": "Python 3",
   "language": "python",
   "name": "python3"
  },
  "language_info": {
   "codemirror_mode": {
    "name": "ipython",
    "version": 3
   },
   "file_extension": ".py",
   "mimetype": "text/x-python",
   "name": "python",
   "nbconvert_exporter": "python",
   "pygments_lexer": "ipython3",
   "version": "3.7.3"
  }
 },
 "nbformat": 4,
 "nbformat_minor": 2
}
